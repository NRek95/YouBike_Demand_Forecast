{
  "nbformat": 4,
  "nbformat_minor": 0,
  "metadata": {
    "colab": {
      "provenance": [],
      "machine_shape": "hm"
    },
    "kernelspec": {
      "name": "python3",
      "display_name": "Python 3"
    },
    "language_info": {
      "name": "python"
    }
  },
  "cells": [
    {
      "cell_type": "code",
      "execution_count": 1,
      "metadata": {
        "colab": {
          "base_uri": "https://localhost:8080/"
        },
        "id": "uhQecK-w2Amq",
        "outputId": "6f354106-83ad-45c8-c208-15bedf1e128e"
      },
      "outputs": [
        {
          "output_type": "stream",
          "name": "stdout",
          "text": [
            "Mounted at /content/drive\n",
            "✅ Google Drive mounted successfully.\n"
          ]
        }
      ],
      "source": [
        "# Cell 1: Setup and Google Drive Access\n",
        "import pandas as pd\n",
        "import numpy as np\n",
        "import glob\n",
        "import requests\n",
        "from google.colab import drive\n",
        "\n",
        "# Mount your Google Drive\n",
        "drive.mount('/content/drive')\n",
        "\n",
        "print(\"✅ Google Drive mounted successfully.\")"
      ]
    },
    {
      "cell_type": "code",
      "source": [
        "# Cell 2: Final, Corrected Data Consolidation\n",
        "\n",
        "import pandas as pd\n",
        "import glob\n",
        "\n",
        "print(\"Starting robust data consolidation...\")\n",
        "\n",
        "# 1. Load raw data files\n",
        "base_path = \"/content/drive/MyDrive/Youbike_Master_Project/YouBike_Demand_Forecast/raw_data/\"\n",
        "slot_files_path = f\"{base_path}/*_slot.csv\"\n",
        "site_files_path = f\"{base_path}/*_site.csv\"\n",
        "slot_files = glob.glob(slot_files_path)\n",
        "site_files = glob.glob(site_files_path)\n",
        "df_slots = pd.concat((pd.read_csv(f, low_memory=False) for f in slot_files), ignore_index=True)\n",
        "df_sites = pd.concat((pd.read_csv(f, low_memory=False) for f in site_files), ignore_index=True)\n",
        "\n",
        "# 2. Prepare site data (for GEO info only)\n",
        "site_info_cols = ['sno', 'latitude', 'longitude', 'sareaen']\n",
        "df_sites_latest_info = df_sites.drop_duplicates(subset='sno', keep='last')[site_info_cols]\n",
        "df_sites_latest_info.rename(columns={'latitude': 'lat', 'longitude': 'lng'}, inplace=True)\n",
        "\n",
        "# 3. Prepare slot data\n",
        "df_slots.rename(columns={'infoTime': 'time'}, inplace=True)\n",
        "df_slots['time'] = pd.to_datetime(df_slots['time'])\n",
        "\n",
        "# 4. Perform a simple left merge\n",
        "df_merged = pd.merge(df_slots, df_sites_latest_info, on='sno', how='left')\n",
        "\n",
        "# 5. Select final columns\n",
        "final_columns = [\"time\", \"sno\", \"available_rent_bikes\", \"available_return_bikes\", \"total\", \"lat\", \"lng\", \"sareaen\"]\n",
        "df = df_merged[final_columns]\n",
        "\n",
        "# 6. Final Cleaning and Verification\n",
        "# First, fill any potential NaNs in 'total' that might come from the merge\n",
        "df['total'] = df.groupby('sno')['total'].ffill().bfill()\n",
        "df.dropna(subset=['total'], inplace=True) # Drop stations if total could not be filled\n",
        "\n",
        "# *** THE KEY FIX IS HERE: Round 'total' and convert it to a whole number ***\n",
        "df['total'] = df['total'].round().astype(int)\n",
        "\n",
        "# Handle potential NaNs in other merged columns\n",
        "geo_cols = ['lat', 'lng', 'sareaen']\n",
        "if df[geo_cols].isnull().any().any():\n",
        "    df[geo_cols] = df.groupby('sno')[geo_cols].ffill().bfill()\n",
        "    df.dropna(inplace=True)\n",
        "\n",
        "# *** ADD THIS FINAL SORTING STEP ***\n",
        "print(\"\\nSorting final DataFrame by station and time...\")\n",
        "df.sort_values(by=['sno', 'time'], inplace=True)\n",
        "df.reset_index(drop=True, inplace=True) # Good practice to reset index after a final sort\n",
        "\n",
        "print(\"\\n✅ Robust consolidation complete.\")"
      ],
      "metadata": {
        "colab": {
          "base_uri": "https://localhost:8080/"
        },
        "id": "rCiS5z_92nFm",
        "outputId": "b4792c37-37a6-4c96-87cf-d6de99a27f24"
      },
      "execution_count": 2,
      "outputs": [
        {
          "output_type": "stream",
          "name": "stdout",
          "text": [
            "Starting robust data consolidation...\n",
            "\n",
            "Sorting final DataFrame by station and time...\n",
            "\n",
            "✅ Robust consolidation complete.\n"
          ]
        }
      ]
    },
    {
      "cell_type": "code",
      "source": [
        "# Cell 3: Verification and Initial Filtering\n",
        "\n",
        "# Verify data integrity\n",
        "print(\"Verifying data integrity...\")\n",
        "is_unique = df.set_index(['time', 'sno']).index.is_unique\n",
        "print(f\"Are all (time, sno) combinations unique? {is_unique}\\n\")\n",
        "\n",
        "# Filter the DataFrame to start from 2024-05-04\n",
        "print(f\"Original start time: {df['time'].min()}\")\n",
        "df = df[df['time'] >= '2024-05-04'].copy()\n",
        "df.reset_index(drop=True, inplace=True)\n",
        "print(f\"✅ Data filtered. New start time: {df['time'].min()}\")\n",
        "\n",
        "# --- Check for Null Values ---\n",
        "\n",
        "# 1. Get the total count of null (missing) values in each column\n",
        "null_counts = df.isnull().sum()\n",
        "\n",
        "print(\"✅ --- Null Value Count per Column ---\")\n",
        "print(null_counts)\n",
        "\n",
        "# 2. Calculate the percentage of missing values, which is often more useful\n",
        "total_rows = len(df)\n",
        "if total_rows > 0:\n",
        "    missing_percentage = (null_counts / total_rows) * 100\n",
        "    print(\"\\n\\n📊 --- Missing Value Percentage per Column ---\")\n",
        "    print(missing_percentage)"
      ],
      "metadata": {
        "colab": {
          "base_uri": "https://localhost:8080/"
        },
        "id": "xldsfUlq2rhr",
        "outputId": "e2600ee1-89f7-4be3-b452-56fd82f2cd03"
      },
      "execution_count": 3,
      "outputs": [
        {
          "output_type": "stream",
          "name": "stdout",
          "text": [
            "Verifying data integrity...\n",
            "Are all (time, sno) combinations unique? True\n",
            "\n",
            "Original start time: 2024-05-03 18:50:28\n",
            "✅ Data filtered. New start time: 2024-05-04 00:01:15\n",
            "✅ --- Null Value Count per Column ---\n",
            "time                      0\n",
            "sno                       0\n",
            "available_rent_bikes      0\n",
            "available_return_bikes    0\n",
            "total                     0\n",
            "lat                       0\n",
            "lng                       0\n",
            "sareaen                   0\n",
            "dtype: int64\n",
            "\n",
            "\n",
            "📊 --- Missing Value Percentage per Column ---\n",
            "time                      0.0\n",
            "sno                       0.0\n",
            "available_rent_bikes      0.0\n",
            "available_return_bikes    0.0\n",
            "total                     0.0\n",
            "lat                       0.0\n",
            "lng                       0.0\n",
            "sareaen                   0.0\n",
            "dtype: float64\n"
          ]
        }
      ]
    },
    {
      "cell_type": "code",
      "source": [
        "# For each station, count how many unique values exist for 'total'\n",
        "# If the count is greater than 1, it means the capacity changed at some point.\n",
        "static_consistency = df.groupby('sno')['total'].nunique()\n",
        "stations_with_changing_capacity = static_consistency[static_consistency > 1]\n",
        "\n",
        "print(f\"Number of stations with a changing total capacity: {len(stations_with_changing_capacity)}\")\n",
        "\n",
        "if len(stations_with_changing_capacity) > 0:\n",
        "    print(\"\\nStations with changing capacity:\")\n",
        "    print(stations_with_changing_capacity)"
      ],
      "metadata": {
        "colab": {
          "base_uri": "https://localhost:8080/"
        },
        "id": "xebtLhG0TXPv",
        "outputId": "075b0eca-b6b7-42d2-cf59-6be463050e11"
      },
      "execution_count": 4,
      "outputs": [
        {
          "output_type": "stream",
          "name": "stdout",
          "text": [
            "Number of stations with a changing total capacity: 445\n",
            "\n",
            "Stations with changing capacity:\n",
            "sno\n",
            "500101003    2\n",
            "500101006    2\n",
            "500101015    2\n",
            "500101019    2\n",
            "500101026    2\n",
            "            ..\n",
            "500119081    2\n",
            "500119084    2\n",
            "500119086    2\n",
            "500119088    3\n",
            "500119090    2\n",
            "Name: total, Length: 445, dtype: int64\n"
          ]
        }
      ]
    },
    {
      "cell_type": "code",
      "source": [
        "# --- Corrected Verification Script ---\n",
        "\n",
        "test_sno = 500101003\n",
        "print(f\"\\n--- Verifying historical accuracy for station {test_sno} ---\")\n",
        "\n",
        "# Isolate all data for our test station\n",
        "station_df = df[df['sno'] == test_sno].copy()\n",
        "\n",
        "# *** THE KEY FIX IS HERE: Sort the data by time before checking for differences ***\n",
        "station_df.sort_values(by='time', inplace=True)\n",
        "\n",
        "# Find the exact rows where the 'total' value truly changes\n",
        "change_points = station_df[station_df['total'].diff() != 0].iloc[1:]\n",
        "\n",
        "# Display the data around the change point\n",
        "if not change_points.empty:\n",
        "    print(f\"✅ Found {len(change_points)} true change(s) in capacity for this station.\")\n",
        "    print(\"Displaying data from just before and after the first change:\")\n",
        "\n",
        "    first_change_loc = station_df.index.get_loc(change_points.index[0])\n",
        "    start_loc = max(0, first_change_loc - 5)\n",
        "    end_loc = min(len(station_df), first_change_loc + 5)\n",
        "\n",
        "    print(station_df.iloc[start_loc:end_loc][['time', 'sno', 'total']])\n",
        "\n",
        "else:\n",
        "    print(f\"✅ No true capacity changes found for station {test_sno}.\")"
      ],
      "metadata": {
        "colab": {
          "base_uri": "https://localhost:8080/"
        },
        "id": "ryU0Fy1naMvW",
        "outputId": "e0db7495-7b16-44e3-da69-bc652a3f0c6e"
      },
      "execution_count": 5,
      "outputs": [
        {
          "output_type": "stream",
          "name": "stdout",
          "text": [
            "\n",
            "--- Verifying historical accuracy for station 500101003 ---\n",
            "✅ Found 1 true change(s) in capacity for this station.\n",
            "Displaying data from just before and after the first change:\n",
            "                      time        sno  total\n",
            "108898 2025-04-21 09:39:15  500101003     16\n",
            "108899 2025-04-21 10:20:04  500101003     16\n",
            "108900 2025-04-21 13:00:03  500101003     16\n",
            "108901 2025-04-21 13:26:01  500101003     16\n",
            "108902 2025-04-21 13:30:04  500101003     16\n",
            "108903 2025-04-21 13:40:05  500101003     28\n",
            "108904 2025-04-21 13:53:16  500101003     28\n",
            "108905 2025-04-21 14:17:14  500101003     28\n",
            "108906 2025-04-21 14:20:04  500101003     28\n",
            "108907 2025-04-21 21:10:03  500101003     28\n"
          ]
        }
      ]
    },
    {
      "cell_type": "code",
      "source": [
        "# Save to a compressed Parquet file for better performance\n",
        "output_path = \"/content/drive/MyDrive/Youbike_Master_Project/YouBike_Demand_Forecast/data/complete_ubike_raw.parquet.gz\"\n",
        "df.to_parquet(output_path, compression='gzip')\n",
        "\n",
        "print(f\"\\nData consolidated and saved to: {output_path}\")\n",
        "print(\"Final DataFrame shape:\", df.shape)\n",
        "print(\"Data head:\")\n",
        "print(df.head())\n",
        "print(df.tail())"
      ],
      "metadata": {
        "colab": {
          "base_uri": "https://localhost:8080/"
        },
        "id": "0_OTQ2qf4mhH",
        "outputId": "c3debb6b-bfdd-426a-8035-18898de628f3"
      },
      "execution_count": 6,
      "outputs": [
        {
          "output_type": "stream",
          "name": "stdout",
          "text": [
            "\n",
            "Data consolidated and saved to: /content/drive/MyDrive/Youbike_Master_Project/YouBike_Demand_Forecast/data/complete_bike_data.parquet.gz\n",
            "Final DataFrame shape: (41136365, 8)\n",
            "Data head:\n",
            "                 time        sno  available_rent_bikes  \\\n",
            "0 2024-05-04 00:06:17  500101001                     6   \n",
            "1 2024-05-04 00:18:18  500101001                     3   \n",
            "2 2024-05-04 00:28:17  500101001                     2   \n",
            "3 2024-05-04 00:30:44  500101001                     0   \n",
            "4 2024-05-04 00:47:18  500101001                     1   \n",
            "\n",
            "   available_return_bikes  total       lat       lng     sareaen  \n",
            "0                      22     28  25.02605  121.5436  Daan Dist.  \n",
            "1                      25     28  25.02605  121.5436  Daan Dist.  \n",
            "2                      26     28  25.02605  121.5436  Daan Dist.  \n",
            "3                      28     28  25.02605  121.5436  Daan Dist.  \n",
            "4                      27     28  25.02605  121.5436  Daan Dist.  \n",
            "                        time        sno  available_rent_bikes  \\\n",
            "41136360 2025-06-22 22:06:03  500119097                    22   \n",
            "41136361 2025-06-22 22:12:02  500119097                    19   \n",
            "41136362 2025-06-22 22:19:02  500119097                    18   \n",
            "41136363 2025-06-22 23:14:02  500119097                    17   \n",
            "41136364 2025-06-22 23:36:02  500119097                    17   \n",
            "\n",
            "          available_return_bikes  total      lat        lng   sareaen  \n",
            "41136360                      31     67  25.0182  121.53476  NTU Dist  \n",
            "41136361                      34     67  25.0182  121.53476  NTU Dist  \n",
            "41136362                      35     67  25.0182  121.53476  NTU Dist  \n",
            "41136363                      36     67  25.0182  121.53476  NTU Dist  \n",
            "41136364                      36     67  25.0182  121.53476  NTU Dist  \n"
          ]
        }
      ]
    },
    {
      "cell_type": "code",
      "source": [
        "# Define the path to your consolidated Parquet file\n",
        "#file_path = \"/content/drive/MyDrive/Youbike_Master_Project/YouBike_Demand_Forecast/data/complete_ubike_raw.parquet.gz\"\n",
        "\n",
        "# Read the data into a pandas DataFrame\n",
        "#df = pd.read_parquet(file_path)\n",
        "\n",
        "# Cell 4: Final Memory-Safe Scaffolding (Corrected)\n",
        "\n",
        "import numpy as np\n",
        "import pandas as pd\n",
        "\n",
        "# --- Pre-computation (done once) ---\n",
        "print(\"Preparing lookup tables and global time range...\")\n",
        "\n",
        "# 1. Create the \"source of truth\" lookup table of all true active days\n",
        "df['date'] = pd.to_datetime(df['time']).dt.date\n",
        "true_active_days = df[['sno', 'date']].drop_duplicates()\n",
        "true_active_days_lookup = pd.MultiIndex.from_frame(true_active_days)\n",
        "print(f\"✅ Created a lookup table with {len(true_active_days)} unique station-day combinations.\")\n",
        "\n",
        "# 2. Define the full global time range\n",
        "start_date = df['time'].min().floor('D')\n",
        "end_date = df['time'].max().ceil('D') - pd.Timedelta(minutes=10)\n",
        "full_range = pd.date_range(start=start_date, end=end_date, freq='10min')\n",
        "\n",
        "# --- Station-by-Station Processing ---\n",
        "processed_stations = []\n",
        "all_stations = df['sno'].unique()\n",
        "total_stations = len(all_stations)\n",
        "\n",
        "print(f\"\\nProcessing {total_stations} stations one by one (this may take some time)...\")\n",
        "\n",
        "# 3. Loop through each station's data\n",
        "for i, sno in enumerate(all_stations):\n",
        "    if (i + 1) % 100 == 0: # Print progress every 100 stations\n",
        "        print(f\"  Processed {i + 1} / {total_stations} stations...\")\n",
        "\n",
        "    station_df = df[df['sno'] == sno]\n",
        "\n",
        "    # A. Create a scaffold FOR THIS STATION ONLY\n",
        "    station_scaffold = pd.DataFrame({'time': full_range, 'sno': sno})\n",
        "\n",
        "    # B. Tag this scaffold's days as active/inactive using the lookup table\n",
        "    station_scaffold['date'] = station_scaffold['time'].dt.date\n",
        "    scaffold_days_index = pd.MultiIndex.from_frame(station_scaffold[['sno', 'date']])\n",
        "    station_scaffold['act'] = scaffold_days_index.isin(true_active_days_lookup).astype(int)\n",
        "\n",
        "    # C. Prepare this station's real data by rounding time\n",
        "    station_rounded = station_df.copy()\n",
        "    station_rounded['time_rounded'] = station_rounded['time'].dt.round('10min')\n",
        "\n",
        "    # D. Merge the station's scaffold with its real data\n",
        "    station_gapped = pd.merge(\n",
        "        station_scaffold,\n",
        "        station_rounded.drop(columns=['date']),\n",
        "        left_on=['sno', 'time'],\n",
        "        right_on=['sno', 'time_rounded'],\n",
        "        how='left'\n",
        "    )\n",
        "\n",
        "    # E. Clean up the merge\n",
        "    # *** THE FIX IS HERE: Use the renamed column 'time_x' ***\n",
        "    station_gapped = station_gapped.drop_duplicates(subset=['sno', 'time_x'], keep='last')\n",
        "    station_gapped = station_gapped.drop(columns=['time_y', 'time_rounded'], errors='ignore').rename(columns={'time_x': 'time'})\n",
        "\n",
        "    # F. Impute values based on 'act' status\n",
        "    dynamic_cols = ['available_rent_bikes', 'available_return_bikes']\n",
        "    active_rows_mask = station_gapped['act'] == 1\n",
        "    station_gapped.loc[active_rows_mask, dynamic_cols] = station_gapped[active_rows_mask].groupby('date')[dynamic_cols].ffill().bfill()\n",
        "\n",
        "    inactive_rows_mask = station_gapped['act'] == 0\n",
        "    station_gapped.loc[inactive_rows_mask, dynamic_cols] = -1\n",
        "\n",
        "    static_cols = ['total', 'lat', 'lng', 'sareaen']\n",
        "    station_gapped[static_cols] = station_gapped[static_cols].ffill().bfill()\n",
        "\n",
        "    # G. Append the fully processed station to the list\n",
        "    processed_stations.append(station_gapped.drop(columns='date'))\n",
        "\n",
        "# 4. Combine all processed stations into one final DataFrame\n",
        "print(\"\\nCombining all processed stations...\")\n",
        "df_scaffolded = pd.concat(processed_stations, ignore_index=True)\n",
        "\n",
        "print(\"✅ Scaffolding complete (memory-safe).\")\n",
        "\n",
        "# Final check for any remaining nulls\n",
        "print(\"\\nNull values remaining:\")\n",
        "print(df_scaffolded.isnull().sum())\n",
        "\n",
        "print(\"\\nFinal Data Head:\")\n",
        "print(df_scaffolded.head())"
      ],
      "metadata": {
        "colab": {
          "base_uri": "https://localhost:8080/"
        },
        "id": "f37041Ce5QLe",
        "outputId": "e5d85e2e-5c17-4f3d-efc6-1e9d1bc66d80"
      },
      "execution_count": 7,
      "outputs": [
        {
          "output_type": "stream",
          "name": "stdout",
          "text": [
            "Preparing lookup tables and global time range...\n",
            "✅ Created a lookup table with 612177 unique station-day combinations.\n",
            "\n",
            "Processing 1613 stations one by one (this may take some time)...\n",
            "  Processed 100 / 1613 stations...\n",
            "  Processed 200 / 1613 stations...\n",
            "  Processed 300 / 1613 stations...\n",
            "  Processed 400 / 1613 stations...\n",
            "  Processed 500 / 1613 stations...\n",
            "  Processed 600 / 1613 stations...\n",
            "  Processed 700 / 1613 stations...\n",
            "  Processed 800 / 1613 stations...\n",
            "  Processed 900 / 1613 stations...\n",
            "  Processed 1000 / 1613 stations...\n",
            "  Processed 1100 / 1613 stations...\n",
            "  Processed 1200 / 1613 stations...\n",
            "  Processed 1300 / 1613 stations...\n",
            "  Processed 1400 / 1613 stations...\n",
            "  Processed 1500 / 1613 stations...\n",
            "  Processed 1600 / 1613 stations...\n",
            "\n",
            "Combining all processed stations...\n",
            "✅ Scaffolding complete (memory-safe).\n",
            "\n",
            "Null values remaining:\n",
            "time                      0\n",
            "sno                       0\n",
            "act                       0\n",
            "available_rent_bikes      0\n",
            "available_return_bikes    0\n",
            "total                     0\n",
            "lat                       0\n",
            "lng                       0\n",
            "sareaen                   0\n",
            "dtype: int64\n",
            "\n",
            "Final Data Head:\n",
            "                 time        sno  act  available_rent_bikes  \\\n",
            "0 2024-05-04 00:00:00  500101001    1                   6.0   \n",
            "1 2024-05-04 00:10:00  500101001    1                   6.0   \n",
            "2 2024-05-04 00:20:00  500101001    1                   3.0   \n",
            "3 2024-05-04 00:30:00  500101001    1                   0.0   \n",
            "4 2024-05-04 00:40:00  500101001    1                   0.0   \n",
            "\n",
            "   available_return_bikes  total       lat       lng     sareaen  \n",
            "0                    22.0   28.0  25.02605  121.5436  Daan Dist.  \n",
            "1                    22.0   28.0  25.02605  121.5436  Daan Dist.  \n",
            "2                    25.0   28.0  25.02605  121.5436  Daan Dist.  \n",
            "3                    28.0   28.0  25.02605  121.5436  Daan Dist.  \n",
            "4                    28.0   28.0  25.02605  121.5436  Daan Dist.  \n"
          ]
        }
      ]
    },
    {
      "cell_type": "code",
      "source": [
        "# Save to a compressed Parquet file for better performance\n",
        "output_path = \"/content/drive/MyDrive/Youbike_Master_Project/YouBike_Demand_Forecast/data/ubike_prep_step1.parquet.gz\"\n",
        "df_scaffolded.to_parquet(output_path, compression='gzip')\n",
        "\n",
        "print(f\"\\nData consolidated and saved to: {output_path}\")\n",
        "print(\"Final DataFrame shape:\", df_scaffolded.shape)\n",
        "print(\"Data head:\")\n",
        "print(df_scaffolded.head())\n",
        "print(df_scaffolded.tail())"
      ],
      "metadata": {
        "colab": {
          "base_uri": "https://localhost:8080/"
        },
        "id": "h48uReLAAYFx",
        "outputId": "13bdcdfb-5756-43f8-bac1-d8c260747505"
      },
      "execution_count": 8,
      "outputs": [
        {
          "output_type": "stream",
          "name": "stdout",
          "text": [
            "\n",
            "Data consolidated and saved to: /content/drive/MyDrive/Youbike_Master_Project/YouBike_Demand_Forecast/data/complete_bike_data_resampled.parquet.gz\n",
            "Final DataFrame shape: (96392880, 9)\n",
            "Data head:\n",
            "                 time        sno  act  available_rent_bikes  \\\n",
            "0 2024-05-04 00:00:00  500101001    1                   6.0   \n",
            "1 2024-05-04 00:10:00  500101001    1                   6.0   \n",
            "2 2024-05-04 00:20:00  500101001    1                   3.0   \n",
            "3 2024-05-04 00:30:00  500101001    1                   0.0   \n",
            "4 2024-05-04 00:40:00  500101001    1                   0.0   \n",
            "\n",
            "   available_return_bikes  total       lat       lng     sareaen  \n",
            "0                    22.0   28.0  25.02605  121.5436  Daan Dist.  \n",
            "1                    22.0   28.0  25.02605  121.5436  Daan Dist.  \n",
            "2                    25.0   28.0  25.02605  121.5436  Daan Dist.  \n",
            "3                    28.0   28.0  25.02605  121.5436  Daan Dist.  \n",
            "4                    28.0   28.0  25.02605  121.5436  Daan Dist.  \n",
            "                        time        sno  act  available_rent_bikes  \\\n",
            "96392875 2025-06-22 23:10:00  500119097    1                  17.0   \n",
            "96392876 2025-06-22 23:20:00  500119097    1                  17.0   \n",
            "96392877 2025-06-22 23:30:00  500119097    1                  17.0   \n",
            "96392878 2025-06-22 23:40:00  500119097    1                  17.0   \n",
            "96392879 2025-06-22 23:50:00  500119097    1                  17.0   \n",
            "\n",
            "          available_return_bikes  total      lat        lng   sareaen  \n",
            "96392875                    36.0   67.0  25.0182  121.53476  NTU Dist  \n",
            "96392876                    36.0   67.0  25.0182  121.53476  NTU Dist  \n",
            "96392877                    36.0   67.0  25.0182  121.53476  NTU Dist  \n",
            "96392878                    36.0   67.0  25.0182  121.53476  NTU Dist  \n",
            "96392879                    36.0   67.0  25.0182  121.53476  NTU Dist  \n"
          ]
        }
      ]
    },
    {
      "cell_type": "code",
      "source": [
        "# Define the path to your consolidated_resampled Parquet file\n",
        "file_path = \"/content/drive/MyDrive/Youbike_Master_Project/YouBike_Demand_Forecast/data/ubike_prep_step1.parquet.gz\"\n",
        "\n",
        "# Read the data into a pandas DataFrame\n",
        "df_scaffolded = pd.read_parquet(file_path)"
      ],
      "metadata": {
        "id": "byG31hpwbH4w"
      },
      "execution_count": 2,
      "outputs": []
    },
    {
      "cell_type": "code",
      "source": [
        "# Count the occurrences of each value in the 'act' column\n",
        "activity_counts = df_scaffolded['act'].value_counts()\n",
        "\n",
        "print(\"✅ Record Counts by Activity Status:\")\n",
        "print(activity_counts)"
      ],
      "metadata": {
        "colab": {
          "base_uri": "https://localhost:8080/"
        },
        "id": "y-li-a8_5Yc0",
        "outputId": "545317c7-21ba-45f7-98f3-c86ee463e8b6"
      },
      "execution_count": 3,
      "outputs": [
        {
          "output_type": "stream",
          "name": "stdout",
          "text": [
            "✅ Record Counts by Activity Status:\n",
            "act\n",
            "1    88153488\n",
            "0     8239392\n",
            "Name: count, dtype: int64\n"
          ]
        }
      ]
    },
    {
      "cell_type": "code",
      "source": [
        "# Cell A: (Run Once) Fetch and Save API Station List\n",
        "\n",
        "import pandas as pd\n",
        "import requests\n",
        "\n",
        "API_URL = \"https://tcgbusfs.blob.core.windows.net/dotapp/youbike/v2/youbike_immediate.json\"\n",
        "API_STATIONS_FILE_PATH = \"/content/drive/MyDrive/Youbike_Master_Project/YouBike_Demand_Forecast/data/youbike_api_stations.csv\"\n",
        "\n",
        "try:\n",
        "    print(\"Fetching station list from live API...\")\n",
        "    response = requests.get(API_URL)\n",
        "    response.raise_for_status()\n",
        "    api_data = response.json()\n",
        "    df_api = pd.DataFrame(api_data)\n",
        "\n",
        "    # Select and clean the data you want to save\n",
        "    df_to_save = df_api[['sno', 'snaen']].copy()\n",
        "    df_to_save['sno'] = pd.to_numeric(df_to_save['sno'], errors='coerce')\n",
        "\n",
        "    # Save to a CSV file\n",
        "    df_to_save.to_csv(API_STATIONS_FILE_PATH, index=False)\n",
        "\n",
        "    print(f\"✅ Successfully fetched and saved {len(df_to_save)} stations to:\")\n",
        "    print(API_STATIONS_FILE_PATH)\n",
        "\n",
        "except requests.exceptions.RequestException as e:\n",
        "    print(f\"❌ Error fetching API data: {e}. Please try again later when the API is stable.\")"
      ],
      "metadata": {
        "colab": {
          "base_uri": "https://localhost:8080/"
        },
        "id": "GYYc5sIp0Kf9",
        "outputId": "230eac70-4ca8-4c47-d566-551f9d8209bf"
      },
      "execution_count": 3,
      "outputs": [
        {
          "output_type": "stream",
          "name": "stdout",
          "text": [
            "Fetching station list from live API...\n",
            "✅ Successfully fetched and saved 1652 stations to:\n",
            "/content/drive/MyDrive/Youbike_Master_Project/YouBike_Demand_Forecast/data/youbike_api_stations.csv\n"
          ]
        }
      ]
    },
    {
      "cell_type": "code",
      "source": [
        "# Cell B: Enrich Data from Saved File\n",
        "\n",
        "import pandas as pd\n",
        "\n",
        "API_STATIONS_FILE_PATH = \"/content/drive/MyDrive/Youbike_Master_Project/YouBike_Demand_Forecast/data/youbike_api_stations.csv\"\n",
        "\n",
        "print(\"Enriching data with English station names from the saved file...\")\n",
        "\n",
        "try:\n",
        "    # 1. Load the reliable station list from your saved file\n",
        "    df_station_names = pd.read_csv(API_STATIONS_FILE_PATH)\n",
        "    print(f\"✅ Successfully loaded {len(df_station_names)} stations from the file.\")\n",
        "\n",
        "    # 2. Perform a LEFT merge to add names without deleting stations yet\n",
        "    stations_before_merge = df_scaffolded['sno'].nunique()\n",
        "    df_enriched_temp = pd.merge(df_scaffolded, df_station_names, on='sno', how='left')\n",
        "\n",
        "    # 3. Identify and report the stations that were not found\n",
        "    stations_not_found_mask = df_enriched_temp['snaen'].isnull()\n",
        "    stations_to_drop = df_enriched_temp[stations_not_found_mask]['sno'].unique()\n",
        "\n",
        "    if len(stations_to_drop) > 0:\n",
        "        print(f\"\\nFound {len(stations_to_drop)} stations in your historical data that are not in the API list.\")\n",
        "        print(\"These stations will be removed.\")\n",
        "\n",
        "    # 4. Filter out the unfound stations to create the final DataFrame\n",
        "    df_enriched = df_enriched_temp.dropna(subset=['snaen']).copy()\n",
        "\n",
        "    stations_after_filter = df_enriched['sno'].nunique()\n",
        "    stations_removed = stations_before_merge - stations_after_filter\n",
        "\n",
        "    print(f\"\\nStations in your dataset before filtering: {stations_before_merge}\")\n",
        "    print(f\"Stations in your dataset after filtering: {stations_after_filter} ({stations_removed} removed)\")\n",
        "\n",
        "    print(\"\\n✅ Enrichment and filtering complete.\")\n",
        "    print(\"Data head:\")\n",
        "    print(df_enriched.head())\n",
        "\n",
        "except FileNotFoundError:\n",
        "    print(f\"❌ Error: The file {API_STATIONS_FILE_PATH} was not found.\")\n",
        "    print(\"Please run the 'Fetch and Save API' script first when the API is stable.\")\n",
        "    df_enriched = df_scaffolded.copy()"
      ],
      "metadata": {
        "colab": {
          "base_uri": "https://localhost:8080/"
        },
        "id": "RS9HWoQLbwtV",
        "outputId": "71acf5c3-8c57-417b-bfd5-85f243d79301"
      },
      "execution_count": 4,
      "outputs": [
        {
          "output_type": "stream",
          "name": "stdout",
          "text": [
            "Enriching data with English station names from the saved file...\n",
            "✅ Successfully loaded 1652 stations from the file.\n",
            "\n",
            "Found 6 stations in your historical data that are not in the API list.\n",
            "These stations will be removed.\n",
            "\n",
            "Stations in your dataset before filtering: 1613\n",
            "Stations in your dataset after filtering: 1607 (6 removed)\n",
            "\n",
            "✅ Enrichment and filtering complete.\n",
            "Data head:\n",
            "                 time        sno  act  available_rent_bikes  \\\n",
            "0 2024-05-04 00:00:00  500101001    1                   6.0   \n",
            "1 2024-05-04 00:10:00  500101001    1                   6.0   \n",
            "2 2024-05-04 00:20:00  500101001    1                   3.0   \n",
            "3 2024-05-04 00:30:00  500101001    1                   0.0   \n",
            "4 2024-05-04 00:40:00  500101001    1                   0.0   \n",
            "\n",
            "   available_return_bikes  total       lat       lng     sareaen  \\\n",
            "0                    22.0   28.0  25.02605  121.5436  Daan Dist.   \n",
            "1                    22.0   28.0  25.02605  121.5436  Daan Dist.   \n",
            "2                    25.0   28.0  25.02605  121.5436  Daan Dist.   \n",
            "3                    28.0   28.0  25.02605  121.5436  Daan Dist.   \n",
            "4                    28.0   28.0  25.02605  121.5436  Daan Dist.   \n",
            "\n",
            "                                  snaen  \n",
            "0  YouBike2.0_MRT Technology Bldg. Sta.  \n",
            "1  YouBike2.0_MRT Technology Bldg. Sta.  \n",
            "2  YouBike2.0_MRT Technology Bldg. Sta.  \n",
            "3  YouBike2.0_MRT Technology Bldg. Sta.  \n",
            "4  YouBike2.0_MRT Technology Bldg. Sta.  \n"
          ]
        }
      ]
    },
    {
      "cell_type": "code",
      "source": [
        "# 1. Get the set of station IDs BEFORE the merge\n",
        "stations_before = set(df_scaffolded['sno'].unique())\n",
        "\n",
        "# 2. Get the set of station IDs AFTER the merge\n",
        "stations_after = set(df_enriched['sno'].unique())\n",
        "\n",
        "# 3. Find the difference between the two sets\n",
        "dropped_station_ids = stations_before - stations_after\n",
        "\n",
        "print(f\"✅ Found {len(dropped_station_ids)} dropped stations.\")\n",
        "\n",
        "if dropped_station_ids:\n",
        "    print(\"The following station IDs were dropped:\")\n",
        "    # Print the list of dropped IDs\n",
        "    print(list(dropped_station_ids))"
      ],
      "metadata": {
        "colab": {
          "base_uri": "https://localhost:8080/"
        },
        "id": "W1h-LjtNb7R7",
        "outputId": "4793e826-596b-48bf-b24e-d656f02e289f"
      },
      "execution_count": 5,
      "outputs": [
        {
          "output_type": "stream",
          "name": "stdout",
          "text": [
            "✅ Found 6 dropped stations.\n",
            "The following station IDs were dropped:\n",
            "[np.int64(500107074), np.int64(500108130), np.int64(500107057), np.int64(500105052), np.int64(500106141), np.int64(500101183)]\n"
          ]
        }
      ]
    },
    {
      "cell_type": "code",
      "source": [
        "# This assumes your 'df_enriched' DataFrame is already loaded in memory.\n",
        "\n",
        "# 1. Remove the \"YouBike2.0_\" prefix from the 'snaen' column\n",
        "print(\"Cleaning the 'snaen' column...\")\n",
        "df_enriched['snaen'] = df_enriched['snaen'].str.replace('YouBike2.0_', '', regex=False)\n",
        "\n",
        "print(\"✅ Prefix removed. Here's a sample of the cleaned names:\")\n",
        "print(df_enriched[['sno', 'snaen']].head())\n",
        "\n",
        "\n",
        "# 2. Perform a final check for any missing data\n",
        "print(\"\\n\\n--- Final Missing Data Check ---\")\n",
        "missing_data_check = df_enriched.isnull().sum()\n",
        "print(missing_data_check)\n",
        "\n",
        "# Check if the total number of missing values is zero\n",
        "if missing_data_check.sum() == 0:\n",
        "    print(\"\\n✅ Verification successful. No missing data found in the final dataset.\")\n",
        "else:\n",
        "    print(\"\\n❌ Warning: Missing data was found. Please review the counts above.\")"
      ],
      "metadata": {
        "colab": {
          "base_uri": "https://localhost:8080/"
        },
        "id": "lwLP906Ocqlb",
        "outputId": "6ef8c13e-0824-4e68-9ea2-c53b5e9ef605"
      },
      "execution_count": 6,
      "outputs": [
        {
          "output_type": "stream",
          "name": "stdout",
          "text": [
            "Cleaning the 'snaen' column...\n",
            "✅ Prefix removed. Here's a sample of the cleaned names:\n",
            "         sno                      snaen\n",
            "0  500101001  MRT Technology Bldg. Sta.\n",
            "1  500101001  MRT Technology Bldg. Sta.\n",
            "2  500101001  MRT Technology Bldg. Sta.\n",
            "3  500101001  MRT Technology Bldg. Sta.\n",
            "4  500101001  MRT Technology Bldg. Sta.\n",
            "\n",
            "\n",
            "--- Final Missing Data Check ---\n",
            "time                      0\n",
            "sno                       0\n",
            "act                       0\n",
            "available_rent_bikes      0\n",
            "available_return_bikes    0\n",
            "total                     0\n",
            "lat                       0\n",
            "lng                       0\n",
            "sareaen                   0\n",
            "snaen                     0\n",
            "dtype: int64\n",
            "\n",
            "✅ Verification successful. No missing data found in the final dataset.\n"
          ]
        }
      ]
    },
    {
      "cell_type": "code",
      "source": [
        "# Save to a compressed enriched Parquet file for better performance\n",
        "output_path = \"/content/drive/MyDrive/Youbike_Master_Project/YouBike_Demand_Forecast/data/complete_bike_data_enriched.parquet.gz\"\n",
        "df_enriched.to_parquet(output_path, compression='gzip')\n",
        "\n",
        "print(f\"\\nData enriched and saved to: {output_path}\")\n",
        "print(\"Final DataFrame shape:\", df_enriched.shape)\n",
        "print(\"Data head:\")\n",
        "print(df_enriched.head())\n",
        "print(df_enriched.tail())"
      ],
      "metadata": {
        "colab": {
          "base_uri": "https://localhost:8080/"
        },
        "id": "4YRaZ0YaIz3f",
        "outputId": "bec622ab-3032-4838-d63a-74042c8130ec"
      },
      "execution_count": 7,
      "outputs": [
        {
          "output_type": "stream",
          "name": "stdout",
          "text": [
            "\n",
            "Data consolidated, resampled and filtered and saved to: /content/drive/MyDrive/Youbike_Master_Project/YouBike_Demand_Forecast/data/complete_bike_data_enriched.parquet.gz\n",
            "Final DataFrame shape: (96034320, 10)\n",
            "Data head:\n",
            "                 time        sno  act  available_rent_bikes  \\\n",
            "0 2024-05-04 00:00:00  500101001    1                   6.0   \n",
            "1 2024-05-04 00:10:00  500101001    1                   6.0   \n",
            "2 2024-05-04 00:20:00  500101001    1                   3.0   \n",
            "3 2024-05-04 00:30:00  500101001    1                   0.0   \n",
            "4 2024-05-04 00:40:00  500101001    1                   0.0   \n",
            "\n",
            "   available_return_bikes  total       lat       lng     sareaen  \\\n",
            "0                    22.0   28.0  25.02605  121.5436  Daan Dist.   \n",
            "1                    22.0   28.0  25.02605  121.5436  Daan Dist.   \n",
            "2                    25.0   28.0  25.02605  121.5436  Daan Dist.   \n",
            "3                    28.0   28.0  25.02605  121.5436  Daan Dist.   \n",
            "4                    28.0   28.0  25.02605  121.5436  Daan Dist.   \n",
            "\n",
            "                       snaen  \n",
            "0  MRT Technology Bldg. Sta.  \n",
            "1  MRT Technology Bldg. Sta.  \n",
            "2  MRT Technology Bldg. Sta.  \n",
            "3  MRT Technology Bldg. Sta.  \n",
            "4  MRT Technology Bldg. Sta.  \n",
            "                        time        sno  act  available_rent_bikes  \\\n",
            "96392875 2025-06-22 23:10:00  500119097    1                  17.0   \n",
            "96392876 2025-06-22 23:20:00  500119097    1                  17.0   \n",
            "96392877 2025-06-22 23:30:00  500119097    1                  17.0   \n",
            "96392878 2025-06-22 23:40:00  500119097    1                  17.0   \n",
            "96392879 2025-06-22 23:50:00  500119097    1                  17.0   \n",
            "\n",
            "          available_return_bikes  total      lat        lng   sareaen  \\\n",
            "96392875                    36.0   67.0  25.0182  121.53476  NTU Dist   \n",
            "96392876                    36.0   67.0  25.0182  121.53476  NTU Dist   \n",
            "96392877                    36.0   67.0  25.0182  121.53476  NTU Dist   \n",
            "96392878                    36.0   67.0  25.0182  121.53476  NTU Dist   \n",
            "96392879                    36.0   67.0  25.0182  121.53476  NTU Dist   \n",
            "\n",
            "                                    snaen  \n",
            "96392875  NTU The College of Liberal Arts  \n",
            "96392876  NTU The College of Liberal Arts  \n",
            "96392877  NTU The College of Liberal Arts  \n",
            "96392878  NTU The College of Liberal Arts  \n",
            "96392879  NTU The College of Liberal Arts  \n"
          ]
        }
      ]
    },
    {
      "cell_type": "code",
      "source": [
        "# Define the path to your enriched Parquet file\n",
        "file_path = \"/content/drive/MyDrive/Youbike_Master_Project/YouBike_Demand_Forecast/data/ubike_prep_step2.parquet.gz\"\n",
        "\n",
        "# Read the data into a pandas DataFrame\n",
        "df_enriched = pd.read_parquet(file_path)"
      ],
      "metadata": {
        "id": "Gtd1Iw1KxI79"
      },
      "execution_count": 2,
      "outputs": []
    },
    {
      "cell_type": "code",
      "source": [
        "import matplotlib.pyplot as plt\n",
        "import seaborn as sns\n",
        "\n",
        "print(\"--- Starting Station Activity Analysis ---\")\n",
        "\n",
        "# --- 1. Calculate the Definitive Activity Report ---\n",
        "df_enriched['date'] = pd.to_datetime(df_enriched['time']).dt.date\n",
        "\n",
        "daily_status = df_enriched.groupby(['sno', 'date'])['act'].max().reset_index()\n",
        "station_activity_summary = daily_status.groupby('sno')['act'].value_counts().unstack(fill_value=0)\n",
        "\n",
        "if 0 not in station_activity_summary.columns: station_activity_summary[0] = 0\n",
        "if 1 not in station_activity_summary.columns: station_activity_summary[1] = 0\n",
        "station_activity_summary.rename(columns={0: 'inactive_days', 1: 'active_days'}, inplace=True)\n",
        "\n",
        "station_activity_summary['total_days'] = station_activity_summary['active_days'] + station_activity_summary['inactive_days']\n",
        "station_activity_summary['activity_ratio'] = station_activity_summary['active_days'] / station_activity_summary['total_days']\n",
        "\n",
        "total_stations = len(station_activity_summary)\n",
        "print(f\"\\nAnalyzing a total of {total_stations} stations.\")\n",
        "print(\"\\nActivity Ratio statistics (All Stations):\")\n",
        "print(station_activity_summary['activity_ratio'].describe())\n",
        "\n",
        "\n",
        "# --- 2. Visualize the Distribution for ALL Stations ---\n",
        "plt.figure(figsize=(12, 6))\n",
        "sns.histplot(station_activity_summary['activity_ratio'], bins=50, kde=True)\n",
        "plt.title('Distribution of Station Activity Ratios (All Stations)')\n",
        "plt.xlabel('Activity Ratio (Active Days / Total Days)')\n",
        "plt.ylabel('Number of Stations')\n",
        "plt.grid(True, linestyle='--', alpha=0.6)\n",
        "plt.show()\n",
        "\n",
        "\n",
        "# --- 3. Analyze and Visualize at the 95% Threshold ---\n",
        "threshold_95 = 0.95\n",
        "stations_over_95 = station_activity_summary[station_activity_summary['activity_ratio'] >= threshold_95]\n",
        "stations_dropped_95 = total_stations - len(stations_over_95)\n",
        "print(f\"\\n--- Analysis for >= {threshold_95*100}% Activity ---\")\n",
        "print(f\"Number of stations kept: {len(stations_over_95)} ({stations_dropped_95} dropped)\")\n",
        "print(\"Statistics:\")\n",
        "print(stations_over_95['activity_ratio'].describe())\n",
        "\n",
        "plt.figure(figsize=(12, 6))\n",
        "sns.histplot(stations_over_95['activity_ratio'], bins=20, kde=True)\n",
        "plt.title(f'Distribution of Station Activity Ratios (>= {threshold_95*100}% Active)')\n",
        "plt.xlabel('Activity Ratio')\n",
        "plt.ylabel('Number of Stations')\n",
        "plt.show()\n",
        "\n",
        "\n",
        "# --- 4. Analyze and Visualize at the 99% Threshold ---\n",
        "threshold_99 = 0.99\n",
        "stations_over_99 = station_activity_summary[station_activity_summary['activity_ratio'] >= threshold_99]\n",
        "stations_dropped_99 = total_stations - len(stations_over_99)\n",
        "print(f\"\\n--- Analysis for >= {threshold_99*100}% Activity ---\")\n",
        "print(f\"Number of stations kept: {len(stations_over_99)} ({stations_dropped_99} dropped)\")\n",
        "print(\"Statistics:\")\n",
        "print(stations_over_99['activity_ratio'].describe())\n",
        "\n",
        "plt.figure(figsize=(12, 6))\n",
        "sns.histplot(stations_over_99['activity_ratio'], bins=10, kde=False)\n",
        "plt.title(f'Distribution of Station Activity Ratios (>= {threshold_99*100}% Active)')\n",
        "plt.xlabel('Activity Ratio')\n",
        "plt.ylabel('Number of Stations')\n",
        "plt.show()\n",
        "\n",
        "\n",
        "# --- 5. Final Filtering ---\n",
        "highly_active_station_ids = stations_over_99.index\n",
        "df_filtered = df_enriched[df_enriched['sno'].isin(highly_active_station_ids)].copy()\n",
        "\n",
        "print(f\"\\n✅ Dataset filtered. Final station count: {df_filtered['sno'].nunique()} ({stations_dropped_99} stations with <99% activity were removed).\")"
      ],
      "metadata": {
        "colab": {
          "base_uri": "https://localhost:8080/",
          "height": 1000
        },
        "id": "xehiqnYl-Lsx",
        "outputId": "ba96ff9b-85a8-497f-fc7b-72d8025c843f"
      },
      "execution_count": 3,
      "outputs": [
        {
          "output_type": "stream",
          "name": "stdout",
          "text": [
            "--- Starting Station Activity Analysis ---\n",
            "\n",
            "Analyzing a total of 1607 stations.\n",
            "\n",
            "Activity Ratio statistics (All Stations):\n",
            "count    1607.000000\n",
            "mean        0.916691\n",
            "std         0.216770\n",
            "min         0.007229\n",
            "25%         0.990361\n",
            "50%         0.995181\n",
            "75%         0.997590\n",
            "max         1.000000\n",
            "Name: activity_ratio, dtype: float64\n"
          ]
        },
        {
          "output_type": "display_data",
          "data": {
            "text/plain": [
              "<Figure size 1200x600 with 1 Axes>"
            ],
            "image/png": "[encoded data removed]"
          },
          "metadata": {}
        },
        {
          "output_type": "stream",
          "name": "stdout",
          "text": [
            "\n",
            "--- Analysis for >= 95.0% Activity ---\n",
            "Number of stations kept: 1359 (248 dropped)\n",
            "Statistics:\n",
            "count    1359.000000\n",
            "mean        0.994131\n",
            "std         0.005776\n",
            "min         0.951807\n",
            "25%         0.992771\n",
            "50%         0.995181\n",
            "75%         0.997590\n",
            "max         1.000000\n",
            "Name: activity_ratio, dtype: float64\n"
          ]
        },
        {
          "output_type": "display_data",
          "data": {
            "text/plain": [
              "<Figure size 1200x600 with 1 Axes>"
            ],
            "image/png": "[encoded data removed]"
          },
          "metadata": {}
        },
        {
          "output_type": "stream",
          "name": "stdout",
          "text": [
            "\n",
            "--- Analysis for >= 99.0% Activity ---\n",
            "Number of stations kept: 1246 (361 dropped)\n",
            "Statistics:\n",
            "count    1246.000000\n",
            "mean        0.995484\n",
            "std         0.002309\n",
            "min         0.990361\n",
            "25%         0.995181\n",
            "50%         0.995181\n",
            "75%         0.997590\n",
            "max         1.000000\n",
            "Name: activity_ratio, dtype: float64\n"
          ]
        },
        {
          "output_type": "display_data",
          "data": {
            "text/plain": [
              "<Figure size 1200x600 with 1 Axes>"
            ],
            "image/png": "[encoded data removed]"
          },
          "metadata": {}
        },
        {
          "output_type": "stream",
          "name": "stdout",
          "text": [
            "\n",
            "✅ Dataset filtered. Final station count: 1246 (361 stations with <99% activity were removed).\n"
          ]
        }
      ]
    },
    {
      "cell_type": "code",
      "source": [
        "# Save to a compressed Parquet file for better performance\n",
        "output_path = \"/content/drive/MyDrive/Youbike_Master_Project/YouBike_Demand_Forecast/data/ubike_prep_step3.parquet.gz\"\n",
        "df_filtered.to_parquet(output_path, compression='gzip')\n",
        "\n",
        "print(f\"\\nData consolidated, resampled and filtered and saved to: {output_path}\")\n",
        "print(\"Final DataFrame shape:\", df_filtered.shape)\n",
        "print(\"Data head:\")\n",
        "print(df_filtered.head())\n",
        "print(df_filtered.tail())"
      ],
      "metadata": {
        "colab": {
          "base_uri": "https://localhost:8080/"
        },
        "id": "Yo7NYtUGgJIX",
        "outputId": "f03e2ff9-941f-4925-acac-107cc6a7f3c6"
      },
      "execution_count": 4,
      "outputs": [
        {
          "output_type": "stream",
          "name": "stdout",
          "text": [
            "\n",
            "Data consolidated, resampled and filtered and saved to: /content/drive/MyDrive/Youbike_Master_Project/YouBike_Demand_Forecast/data/complete_bike_data_resampled_and_filtered.parquet.gz\n",
            "Final DataFrame shape: (74460960, 11)\n",
            "Data head:\n",
            "                 time        sno  act  available_rent_bikes  \\\n",
            "0 2024-05-04 00:00:00  500101001    1                   6.0   \n",
            "1 2024-05-04 00:10:00  500101001    1                   6.0   \n",
            "2 2024-05-04 00:20:00  500101001    1                   3.0   \n",
            "3 2024-05-04 00:30:00  500101001    1                   0.0   \n",
            "4 2024-05-04 00:40:00  500101001    1                   0.0   \n",
            "\n",
            "   available_return_bikes  total       lat       lng     sareaen  \\\n",
            "0                    22.0   28.0  25.02605  121.5436  Daan Dist.   \n",
            "1                    22.0   28.0  25.02605  121.5436  Daan Dist.   \n",
            "2                    25.0   28.0  25.02605  121.5436  Daan Dist.   \n",
            "3                    28.0   28.0  25.02605  121.5436  Daan Dist.   \n",
            "4                    28.0   28.0  25.02605  121.5436  Daan Dist.   \n",
            "\n",
            "                       snaen        date  \n",
            "0  MRT Technology Bldg. Sta.  2024-05-04  \n",
            "1  MRT Technology Bldg. Sta.  2024-05-04  \n",
            "2  MRT Technology Bldg. Sta.  2024-05-04  \n",
            "3  MRT Technology Bldg. Sta.  2024-05-04  \n",
            "4  MRT Technology Bldg. Sta.  2024-05-04  \n",
            "                        time        sno  act  available_rent_bikes  \\\n",
            "96034315 2025-06-22 23:10:00  500119091    1                  17.0   \n",
            "96034316 2025-06-22 23:20:00  500119091    1                  17.0   \n",
            "96034317 2025-06-22 23:30:00  500119091    1                  17.0   \n",
            "96034318 2025-06-22 23:40:00  500119091    1                  17.0   \n",
            "96034319 2025-06-22 23:50:00  500119091    1                  17.0   \n",
            "\n",
            "          available_return_bikes  total       lat        lng   sareaen  \\\n",
            "96034315                     1.0   18.0  25.01816  121.54469  NTU Dist   \n",
            "96034316                     1.0   18.0  25.01816  121.54469  NTU Dist   \n",
            "96034317                     1.0   18.0  25.01816  121.54469  NTU Dist   \n",
            "96034318                     1.0   18.0  25.01816  121.54469  NTU Dist   \n",
            "96034319                     1.0   18.0  25.01816  121.54469  NTU Dist   \n",
            "\n",
            "                                         snaen        date  \n",
            "96034315  NTU Ming - Da Hall (Staff Dormitory)  2025-06-22  \n",
            "96034316  NTU Ming - Da Hall (Staff Dormitory)  2025-06-22  \n",
            "96034317  NTU Ming - Da Hall (Staff Dormitory)  2025-06-22  \n",
            "96034318  NTU Ming - Da Hall (Staff Dormitory)  2025-06-22  \n",
            "96034319  NTU Ming - Da Hall (Staff Dormitory)  2025-06-22  \n"
          ]
        }
      ]
    },
    {
      "cell_type": "code",
      "source": [
        "# --- Data Integrity Verification ---\n",
        "\n",
        "print(\"Verifying data integrity...\")\n",
        "\n",
        "# Test 1: Check if any inactive records (act=0) have bike counts NOT equal to -1.\n",
        "# The result should be 0.\n",
        "inactive_errors = len(df_filtered[\n",
        "    (df_filtered['act'] == 0) &\n",
        "    ((df_filtered['available_rent_bikes'] != -1) | (df_filtered['available_return_bikes'] != -1))\n",
        "])\n",
        "\n",
        "print(f\"\\nNumber of inactive records where bike counts are NOT -1: {inactive_errors}\")\n",
        "\n",
        "\n",
        "# Test 2: Check if any active records (act=1) have bike counts equal to -1.\n",
        "# The result should be 0.\n",
        "active_errors = len(df_filtered[\n",
        "    (df_filtered['act'] == 1) &\n",
        "    ((df_filtered['available_rent_bikes'] == -1) | (df_filtered['available_return_bikes'] == -1))\n",
        "])\n",
        "\n",
        "print(f\"Number of active records where bike counts ARE -1: {active_errors}\")\n",
        "\n",
        "# --- Final Verdict ---\n",
        "if inactive_errors == 0 and active_errors == 0:\n",
        "    print(\"\\n\\n✅ Verification successful. The data is consistent.\")\n",
        "else:\n",
        "    print(\"\\n\\n❌ Verification failed. Please review the counts above.\")"
      ],
      "metadata": {
        "colab": {
          "base_uri": "https://localhost:8080/"
        },
        "id": "bM2lVVDf_Wef",
        "outputId": "6fa5adab-f5eb-4e8f-c079-0524b6efbac3"
      },
      "execution_count": 5,
      "outputs": [
        {
          "output_type": "stream",
          "name": "stdout",
          "text": [
            "Verifying data integrity...\n",
            "\n",
            "Number of inactive records where bike counts are NOT -1: 0\n",
            "Number of active records where bike counts ARE -1: 0\n",
            "\n",
            "\n",
            "✅ Verification successful. The data is consistent.\n"
          ]
        }
      ]
    },
    {
      "cell_type": "code",
      "source": [
        "# --- Final Verification ---\n",
        "print(\"\\nVerifying final data... Checking for any remaining null values:\")\n",
        "print(df_filtered.isnull().sum())\n",
        "\n",
        "print(\"\\n--- Final Processed Data ---\")\n",
        "print(\"Displaying a slice of data for a single station to show the filled values:\")\n",
        "# Display a sample where we can see a transition from active (1) to inactive (0) if possible\n",
        "example_sno = df_filtered['sno'].iloc[0]\n",
        "print(df_filtered[df_filtered['sno'] == example_sno].head(20))\n",
        "\n"
      ],
      "metadata": {
        "colab": {
          "base_uri": "https://localhost:8080/"
        },
        "id": "NUDQIkBid0wD",
        "outputId": "ac34f475-bf43-4760-f860-f7473e11deb7"
      },
      "execution_count": 6,
      "outputs": [
        {
          "output_type": "stream",
          "name": "stdout",
          "text": [
            "\n",
            "Verifying final data... Checking for any remaining null values:\n",
            "time                      0\n",
            "sno                       0\n",
            "act                       0\n",
            "available_rent_bikes      0\n",
            "available_return_bikes    0\n",
            "total                     0\n",
            "lat                       0\n",
            "lng                       0\n",
            "sareaen                   0\n",
            "snaen                     0\n",
            "date                      0\n",
            "dtype: int64\n",
            "\n",
            "--- Final Processed Data ---\n",
            "Displaying a slice of data for a single station to show the filled values:\n",
            "                  time        sno  act  available_rent_bikes  \\\n",
            "0  2024-05-04 00:00:00  500101001    1                   6.0   \n",
            "1  2024-05-04 00:10:00  500101001    1                   6.0   \n",
            "2  2024-05-04 00:20:00  500101001    1                   3.0   \n",
            "3  2024-05-04 00:30:00  500101001    1                   0.0   \n",
            "4  2024-05-04 00:40:00  500101001    1                   0.0   \n",
            "5  2024-05-04 00:50:00  500101001    1                   0.0   \n",
            "6  2024-05-04 01:00:00  500101001    1                   0.0   \n",
            "7  2024-05-04 01:10:00  500101001    1                   0.0   \n",
            "8  2024-05-04 01:20:00  500101001    1                   0.0   \n",
            "9  2024-05-04 01:30:00  500101001    1                   0.0   \n",
            "10 2024-05-04 01:40:00  500101001    1                   0.0   \n",
            "11 2024-05-04 01:50:00  500101001    1                   0.0   \n",
            "12 2024-05-04 02:00:00  500101001    1                   0.0   \n",
            "13 2024-05-04 02:10:00  500101001    1                   0.0   \n",
            "14 2024-05-04 02:20:00  500101001    1                   0.0   \n",
            "15 2024-05-04 02:30:00  500101001    1                   0.0   \n",
            "16 2024-05-04 02:40:00  500101001    1                   0.0   \n",
            "17 2024-05-04 02:50:00  500101001    1                   0.0   \n",
            "18 2024-05-04 03:00:00  500101001    1                   0.0   \n",
            "19 2024-05-04 03:10:00  500101001    1                   0.0   \n",
            "\n",
            "    available_return_bikes  total       lat       lng     sareaen  \\\n",
            "0                     22.0   28.0  25.02605  121.5436  Daan Dist.   \n",
            "1                     22.0   28.0  25.02605  121.5436  Daan Dist.   \n",
            "2                     25.0   28.0  25.02605  121.5436  Daan Dist.   \n",
            "3                     28.0   28.0  25.02605  121.5436  Daan Dist.   \n",
            "4                     28.0   28.0  25.02605  121.5436  Daan Dist.   \n",
            "5                     28.0   28.0  25.02605  121.5436  Daan Dist.   \n",
            "6                     28.0   28.0  25.02605  121.5436  Daan Dist.   \n",
            "7                     28.0   28.0  25.02605  121.5436  Daan Dist.   \n",
            "8                     28.0   28.0  25.02605  121.5436  Daan Dist.   \n",
            "9                     28.0   28.0  25.02605  121.5436  Daan Dist.   \n",
            "10                    28.0   28.0  25.02605  121.5436  Daan Dist.   \n",
            "11                    28.0   28.0  25.02605  121.5436  Daan Dist.   \n",
            "12                    28.0   28.0  25.02605  121.5436  Daan Dist.   \n",
            "13                    28.0   28.0  25.02605  121.5436  Daan Dist.   \n",
            "14                    28.0   28.0  25.02605  121.5436  Daan Dist.   \n",
            "15                    28.0   28.0  25.02605  121.5436  Daan Dist.   \n",
            "16                    28.0   28.0  25.02605  121.5436  Daan Dist.   \n",
            "17                    28.0   28.0  25.02605  121.5436  Daan Dist.   \n",
            "18                    28.0   28.0  25.02605  121.5436  Daan Dist.   \n",
            "19                    28.0   28.0  25.02605  121.5436  Daan Dist.   \n",
            "\n",
            "                        snaen        date  \n",
            "0   MRT Technology Bldg. Sta.  2024-05-04  \n",
            "1   MRT Technology Bldg. Sta.  2024-05-04  \n",
            "2   MRT Technology Bldg. Sta.  2024-05-04  \n",
            "3   MRT Technology Bldg. Sta.  2024-05-04  \n",
            "4   MRT Technology Bldg. Sta.  2024-05-04  \n",
            "5   MRT Technology Bldg. Sta.  2024-05-04  \n",
            "6   MRT Technology Bldg. Sta.  2024-05-04  \n",
            "7   MRT Technology Bldg. Sta.  2024-05-04  \n",
            "8   MRT Technology Bldg. Sta.  2024-05-04  \n",
            "9   MRT Technology Bldg. Sta.  2024-05-04  \n",
            "10  MRT Technology Bldg. Sta.  2024-05-04  \n",
            "11  MRT Technology Bldg. Sta.  2024-05-04  \n",
            "12  MRT Technology Bldg. Sta.  2024-05-04  \n",
            "13  MRT Technology Bldg. Sta.  2024-05-04  \n",
            "14  MRT Technology Bldg. Sta.  2024-05-04  \n",
            "15  MRT Technology Bldg. Sta.  2024-05-04  \n",
            "16  MRT Technology Bldg. Sta.  2024-05-04  \n",
            "17  MRT Technology Bldg. Sta.  2024-05-04  \n",
            "18  MRT Technology Bldg. Sta.  2024-05-04  \n",
            "19  MRT Technology Bldg. Sta.  2024-05-04  \n"
          ]
        }
      ]
    },
    {
      "cell_type": "code",
      "source": [
        "# This assumes your 'df_filtered' DataFrame is loaded in memory.\n",
        "\n",
        "# Create a DataFrame of only the active records for this check\n",
        "df_active = df_filtered[df_filtered['act'] == 1].copy()\n",
        "\n",
        "# Check for impossible values\n",
        "print(\"--- Sanity Checks: Identifying Impossible Values ---\")\n",
        "impossible_rentals = df_active[df_active['available_rent_bikes'] > df_active['total']]\n",
        "print(f\"Number of records with more bikes than total docks: {len(impossible_rentals)}\")\n",
        "\n",
        "impossible_returns = df_active[df_active['available_return_bikes'] > df_active['total']]\n",
        "print(f\"Number of records with more return docks than total docks: {len(impossible_returns)}\")\n",
        "\n",
        "negative_bikes = df_active[df_active['available_rent_bikes'] < 0]\n",
        "print(f\"Number of active records with negative bike counts: {len(negative_bikes)}\")"
      ],
      "metadata": {
        "colab": {
          "base_uri": "https://localhost:8080/"
        },
        "id": "GUTTMqGu62V5",
        "outputId": "8242c35f-476d-4f47-b680-c9f4e05872ac"
      },
      "execution_count": 3,
      "outputs": [
        {
          "output_type": "stream",
          "name": "stdout",
          "text": [
            "--- Sanity Checks: Identifying Impossible Values ---\n",
            "Number of records with more bikes than total docks: 2\n",
            "Number of records with more return docks than total docks: 133\n",
            "Number of active records with negative bike counts: 0\n"
          ]
        }
      ]
    },
    {
      "cell_type": "code",
      "source": [
        "# Save the final, processed data\n",
        "final_output_path = \"/content/drive/MyDrive/Youbike_Master_Project/YouBike_Demand_Forecast/data/ubike_prep_step4.parquet.gz\"\n",
        "df_filtered.to_parquet(final_output_path, compression='gzip')\n",
        "print(f\"\\nFinal processed data saved to: {final_output_path}\")"
      ],
      "metadata": {
        "id": "cMbZhgdRhIew",
        "colab": {
          "base_uri": "https://localhost:8080/"
        },
        "outputId": "5631cc31-820c-414c-b606-3821d6c3bc88"
      },
      "execution_count": 7,
      "outputs": [
        {
          "output_type": "stream",
          "name": "stdout",
          "text": [
            "\n",
            "Final processed data saved to: /content/drive/MyDrive/Youbike_Master_Project/YouBike_Demand_Forecast/data/final_processed_data.parquet.gz\n"
          ]
        }
      ]
    },
    {
      "cell_type": "code",
      "source": [
        "import pandas as pd\n",
        "\n",
        "# ---- 1. Define the path to your Parquet file\n",
        "# Make sure this is the correct source file you intend to use.\n",
        "file_path = \"/content/drive/MyDrive/Youbike_Master_Project/YouBike_Demand_Forecast/data/ubike_prep_step4.parquet.gz\"\n",
        "\n",
        "# Define ONLY the columns you need for your analysis.\n",
        "# By not including 'date' here, you are effectively dropping it before it's even loaded.\n",
        "columns_to_load = [\n",
        "    'sno',\n",
        "    'time',\n",
        "    'act',\n",
        "    'total',\n",
        "    'available_rent_bikes',\n",
        "    'available_return_bikes'\n",
        "]\n",
        "\n",
        "print(f\"Selectively loading {len(columns_to_load)} columns from '{file_path}'...\")\n",
        "\n",
        "# Read only the specified columns into the DataFrame.\n",
        "# This is much more memory-efficient than loading everything first.\n",
        "df_subset = pd.read_parquet(file_path, columns=columns_to_load)\n",
        "\n",
        "print(\"\\n✅ Data loaded successfully with only the required columns.\")\n",
        "print(\"Final DataFrame columns:\", df_subset.columns.tolist())"
      ],
      "metadata": {
        "colab": {
          "base_uri": "https://localhost:8080/"
        },
        "id": "-Qj75-HK2g0O",
        "outputId": "4986b426-1c8b-4e2f-cae4-44b52ff30e34"
      },
      "execution_count": 2,
      "outputs": [
        {
          "output_type": "stream",
          "name": "stdout",
          "text": [
            "Selectively loading 6 columns from '/content/drive/MyDrive/Youbike_Master_Project/YouBike_Demand_Forecast/data/almost_final_processed_data.parquet.gz'...\n",
            "\n",
            "✅ Data loaded successfully with only the required columns.\n",
            "Final DataFrame columns: ['sno', 'time', 'act', 'total', 'available_rent_bikes', 'available_return_bikes']\n"
          ]
        }
      ]
    },
    {
      "cell_type": "code",
      "source": [
        "# Cell: Enhanced Outlier Detection with Data Classification\n",
        "\n",
        "import numpy as np\n",
        "import pandas as pd\n",
        "\n",
        "# --- 2. Correct Impossible Values (The Missing Logic) ---\n",
        "print(\"\\nCorrecting impossible values (e.g., bikes > total capacity)...\")\n",
        "\n",
        "# Create a mask for active records to ensure we don't change our -1 placeholders\n",
        "active_mask_full = df_subset['act'] == 1\n",
        "\n",
        "# Get the indices of the rows that are active\n",
        "active_indices = df_subset[active_mask_full].index\n",
        "\n",
        "# Efficiently cap 'available_rent_bikes' and 'available_return_bikes' at the 'total'\n",
        "# This is much faster than using .apply()\n",
        "df_subset.loc[active_indices, 'available_rent_bikes'] = np.minimum(\n",
        "    df_subset.loc[active_indices, 'available_rent_bikes'],\n",
        "    df_subset.loc[active_indices, 'total']\n",
        ")\n",
        "df_subset.loc[active_indices, 'available_return_bikes'] = np.minimum(\n",
        "    df_subset.loc[active_indices, 'available_return_bikes'],\n",
        "    df_subset.loc[active_indices, 'total']\n",
        ")\n",
        "\n",
        "# Also ensure no active bike counts are negative\n",
        "df_subset.loc[active_indices, 'available_rent_bikes'] = df_subset.loc[active_indices, 'available_rent_bikes'].clip(lower=0)\n",
        "df_subset.loc[active_indices, 'available_return_bikes'] = df_subset.loc[active_indices, 'available_return_bikes'].clip(lower=0)\n",
        "\n",
        "\n",
        "print(\"✅ Impossible values corrected.\")\n",
        "\n",
        "\n",
        "# --- 3. Classify the Data ---\n",
        "print(\"\\nClassifying data by hour and day type (Weekday/Weekend)...\")\n",
        "df_subset['hour'] = pd.to_datetime(df_subset['time']).dt.hour\n",
        "df_subset['is_weekday'] = pd.to_datetime(df_subset['time']).dt.dayofweek < 5\n",
        "\n",
        "\n",
        "# --- 4. Statistical Outlier Detection within each Class ---\n",
        "# p: The lookback period. Since we group by hour, p=7 means the last 7 instances of that specific hour.\n",
        "p_window = 7\n",
        "# ε: The standard deviation threshold.\n",
        "epsilon = 3.0\n",
        "cols_to_check = ['available_rent_bikes', 'available_return_bikes']\n",
        "\n",
        "print(f\"\\n--- Identifying Statistical Outliers (p={p_window} occurrences, ε={epsilon}) ---\")\n",
        "\n",
        "# We create a new DataFrame to store the cleaned results\n",
        "df_cleaned_subset = df_subset.copy()\n",
        "\n",
        "for col in cols_to_check:\n",
        "    print(f\"Processing column: {col}...\")\n",
        "    # Group by station, day type, AND hour for a much more accurate comparison\n",
        "    grouped = df_subset[df_subset['act'] == 1].groupby(['sno', 'is_weekday', 'hour'])[col]\n",
        "\n",
        "    # Calculate rolling stats within these highly specific groups\n",
        "    rolling_avg = grouped.transform(lambda x: x.rolling(window=p_window, min_periods=1).mean())\n",
        "    rolling_std = grouped.transform(lambda x: x.rolling(window=p_window, min_periods=1).std()).fillna(0)\n",
        "\n",
        "    # Calculate the score only for active records\n",
        "    # We need to align the indices for the calculation to work correctly\n",
        "    active_subset = df_subset.loc[active_mask_full, col]\n",
        "    score = (active_subset - rolling_avg) / rolling_std\n",
        "    score.replace([np.inf, -np.inf], 0, inplace=True) # Handle division by zero\n",
        "\n",
        "    outlier_mask = score.abs() > epsilon\n",
        "    print(f\"Found {outlier_mask.sum()} outliers in '{col}'.\")\n",
        "\n",
        "    # Correct outliers by compressing them to the boundary\n",
        "    upper_bound = rolling_avg + (epsilon * rolling_std)\n",
        "    lower_bound = rolling_avg - (epsilon * rolling_std)\n",
        "\n",
        "    # Get the correct index from the original DataFrame to update\n",
        "    update_idx_upper = score[score > epsilon].index\n",
        "    update_idx_lower = score[score < -epsilon].index\n",
        "\n",
        "    df_cleaned_subset.loc[update_idx_upper, col] = upper_bound.loc[update_idx_upper]\n",
        "    df_cleaned_subset.loc[update_idx_lower, col] = lower_bound.loc[update_idx_lower]\n",
        "\n",
        "print(\"\\n✅ Outlier detection and correction complete.\")"
      ],
      "metadata": {
        "colab": {
          "base_uri": "https://localhost:8080/"
        },
        "id": "YPQSP8f76-WA",
        "outputId": "4f362a8b-bffc-4d20-e64d-540f35e5238a"
      },
      "execution_count": 3,
      "outputs": [
        {
          "output_type": "stream",
          "name": "stdout",
          "text": [
            "\n",
            "Correcting impossible values (e.g., bikes > total capacity)...\n",
            "✅ Impossible values corrected.\n",
            "\n",
            "Classifying data by hour and day type (Weekday/Weekend)...\n",
            "\n",
            "--- Identifying Statistical Outliers (p=7 occurrences, ε=3.0) ---\n",
            "Processing column: available_rent_bikes...\n",
            "Found 0 outliers in 'available_rent_bikes'.\n",
            "Processing column: available_return_bikes...\n",
            "Found 0 outliers in 'available_return_bikes'.\n",
            "\n",
            "✅ Outlier detection and correction complete.\n"
          ]
        }
      ]
    },
    {
      "cell_type": "code",
      "source": [
        "# This cell checks for the \"division by zero\" edge case.\n",
        "print(\"Checking for outliers hidden by zero standard deviation...\")\n",
        "\n",
        "# We will reuse the results from the last cell.\n",
        "# The 'rolling_std' and 'rolling_avg' are still in memory for the 'available_return_bikes' column.\n",
        "# Let's check that column.\n",
        "active_data = df_cleaned_subset[df_cleaned_subset['act'] == 1]['available_return_bikes']\n",
        "\n",
        "# Find where std dev was zero but the value was not equal to the average\n",
        "hidden_outliers = active_data[\n",
        "    (rolling_std == 0) & (active_data != rolling_avg)\n",
        "]\n",
        "\n",
        "print(f\"\\nFound {len(hidden_outliers)} instances of minor deviations during periods of perfect stability.\")\n",
        "\n",
        "if len(hidden_outliers) > 0:\n",
        "    print(\"This confirms that a small number of true, minor outliers exist but are being ignored by the current formula.\")\n",
        "else:\n",
        "    print(\"This confirms the data is exceptionally stable and no outliers were missed.\")"
      ],
      "metadata": {
        "colab": {
          "base_uri": "https://localhost:8080/"
        },
        "id": "QeOgNQT-SPwX",
        "outputId": "0da0686f-2666-4f23-e9bc-808a21300137"
      },
      "execution_count": 4,
      "outputs": [
        {
          "output_type": "stream",
          "name": "stdout",
          "text": [
            "Checking for outliers hidden by zero standard deviation...\n",
            "\n",
            "Found 0 instances of minor deviations during periods of perfect stability.\n",
            "This confirms the data is exceptionally stable and no outliers were missed.\n"
          ]
        }
      ]
    },
    {
      "cell_type": "code",
      "source": [
        "# Cell 2: Recombine for Final DataFrame\n",
        "\n",
        "# 1. Load the informational columns we ignored earlier\n",
        "# We must include the keys 'sno' and 'time' to join them back.\n",
        "info_cols_to_load = ['sno', 'time', 'lat', 'lng', 'sareaen', 'snaen']\n",
        "df_info = pd.read_parquet(file_path, columns=info_cols_to_load)\n",
        "\n",
        "# 2. Merge the cleaned data with the informational data\n",
        "print(\"Merging cleaned data with remaining columns...\")\n",
        "df_final = pd.merge(df_cleaned_subset, df_info, on=['sno', 'time'])\n",
        "\n",
        "print(\"\\n✅ Final DataFrame reassembled.\")\n",
        "print(\"Final shape:\", df_final.shape)\n",
        "print(\"\\nNull values check:\")\n",
        "print(df_final.isnull().sum())\n",
        "print(\"\\nFinal head:\")\n",
        "print(df_final.head())"
      ],
      "metadata": {
        "colab": {
          "base_uri": "https://localhost:8080/"
        },
        "id": "WWQadWDD_TvT",
        "outputId": "df8a42b1-498c-4534-acf9-816fe1c394e8"
      },
      "execution_count": 5,
      "outputs": [
        {
          "output_type": "stream",
          "name": "stdout",
          "text": [
            "Merging cleaned data with remaining columns...\n",
            "\n",
            "✅ Final DataFrame reassembled.\n",
            "Final shape: (74460960, 12)\n",
            "\n",
            "Null values check:\n",
            "sno                       0\n",
            "time                      0\n",
            "act                       0\n",
            "total                     0\n",
            "available_rent_bikes      0\n",
            "available_return_bikes    0\n",
            "hour                      0\n",
            "is_weekday                0\n",
            "lat                       0\n",
            "lng                       0\n",
            "sareaen                   0\n",
            "snaen                     0\n",
            "dtype: int64\n",
            "\n",
            "Final head:\n",
            "         sno                time  act  total  available_rent_bikes  \\\n",
            "0  500101001 2024-05-04 00:00:00    1   28.0                   6.0   \n",
            "1  500101001 2024-05-04 00:10:00    1   28.0                   6.0   \n",
            "2  500101001 2024-05-04 00:20:00    1   28.0                   3.0   \n",
            "3  500101001 2024-05-04 00:30:00    1   28.0                   0.0   \n",
            "4  500101001 2024-05-04 00:40:00    1   28.0                   0.0   \n",
            "\n",
            "   available_return_bikes  hour  is_weekday       lat       lng     sareaen  \\\n",
            "0                    22.0     0       False  25.02605  121.5436  Daan Dist.   \n",
            "1                    22.0     0       False  25.02605  121.5436  Daan Dist.   \n",
            "2                    25.0     0       False  25.02605  121.5436  Daan Dist.   \n",
            "3                    28.0     0       False  25.02605  121.5436  Daan Dist.   \n",
            "4                    28.0     0       False  25.02605  121.5436  Daan Dist.   \n",
            "\n",
            "                       snaen  \n",
            "0  MRT Technology Bldg. Sta.  \n",
            "1  MRT Technology Bldg. Sta.  \n",
            "2  MRT Technology Bldg. Sta.  \n",
            "3  MRT Technology Bldg. Sta.  \n",
            "4  MRT Technology Bldg. Sta.  \n"
          ]
        }
      ]
    },
    {
      "cell_type": "code",
      "source": [
        "print(\"\\nConverting float columns to integer...\")\n",
        "\n",
        "# List the columns you want to convert\n",
        "cols_to_convert = ['available_rent_bikes', 'available_return_bikes', 'total']\n",
        "\n",
        "for col in cols_to_convert:\n",
        "    df_final[col] = df_final[col].astype(int)\n",
        "\n",
        "print(\"✅ Conversion complete.\")\n",
        "print(\"\\nFinal data types:\")\n",
        "print(df_final.info())\n",
        "\n",
        "# Save the final, processed data\n",
        "final_output_path = \"/content/drive/MyDrive/Youbike_Master_Project/YouBike_Demand_Forecast/data/ubike_final_data.parquet.gz\"\n",
        "df_final.to_parquet(final_output_path, compression='gzip')\n",
        "print(f\"\\nFinal processed data saved to: {final_output_path}\")"
      ],
      "metadata": {
        "colab": {
          "base_uri": "https://localhost:8080/"
        },
        "id": "BXqTjksbANC5",
        "outputId": "857421ea-3754-4824-e452-136dc09a76cb"
      },
      "execution_count": 6,
      "outputs": [
        {
          "output_type": "stream",
          "name": "stdout",
          "text": [
            "\n",
            "Converting float columns to integer...\n",
            "✅ Conversion complete.\n",
            "\n",
            "Final data types:\n",
            "<class 'pandas.core.frame.DataFrame'>\n",
            "RangeIndex: 74460960 entries, 0 to 74460959\n",
            "Data columns (total 12 columns):\n",
            " #   Column                  Dtype         \n",
            "---  ------                  -----         \n",
            " 0   sno                     int64         \n",
            " 1   time                    datetime64[ns]\n",
            " 2   act                     int64         \n",
            " 3   total                   int64         \n",
            " 4   available_rent_bikes    int64         \n",
            " 5   available_return_bikes  int64         \n",
            " 6   hour                    int32         \n",
            " 7   is_weekday              bool          \n",
            " 8   lat                     float64       \n",
            " 9   lng                     float64       \n",
            " 10  sareaen                 object        \n",
            " 11  snaen                   object        \n",
            "dtypes: bool(1), datetime64[ns](1), float64(2), int32(1), int64(5), object(2)\n",
            "memory usage: 5.9+ GB\n",
            "None\n",
            "\n",
            "Final processed data saved to: /content/drive/MyDrive/Youbike_Master_Project/YouBike_Demand_Forecast/data/ubike_final_data.parquet.gz\n"
          ]
        }
      ]
    },
    {
      "cell_type": "code",
      "source": [
        "# Define the path to your enriched Parquet file\n",
        "file_path = \"/content/drive/MyDrive/Youbike_Master_Project/YouBike_Demand_Forecast/data/ubike_final_data.parquet.gz\"\n",
        "\n",
        "# Read the data into a pandas DataFrame\n",
        "df_final = pd.read_parquet(file_path)\n",
        "\n",
        "print(\"Creating the normalized occupancy_ratio feature...\")\n",
        "\n",
        "# Create a copy to avoid SettingWithCopyWarning\n",
        "df_features = df_final.copy()\n",
        "\n",
        "# Use a mask to avoid division by zero and to correctly handle inactive records.\n",
        "active_and_valid_mask = (df_features['act'] == 1) & (df_features['total'] > 0)\n",
        "\n",
        "# Occupancy Ratio = available bikes / total docks\n",
        "df_features['occupancy_ratio'] = 0.0 # Initialize column\n",
        "df_features.loc[active_and_valid_mask, 'occupancy_ratio'] = \\\n",
        "    df_features['available_rent_bikes'] / df_features['total']\n",
        "\n",
        "# For inactive records, set the ratio to -1\n",
        "df_features.loc[df_features['act'] == 0, 'occupancy_ratio'] = -1\n",
        "\n",
        "print(\"✅ 'occupancy_ratio' column added.\")\n",
        "print(df_features[['time', 'sno', 'total', 'available_rent_bikes', 'occupancy_ratio']].head())"
      ],
      "metadata": {
        "colab": {
          "base_uri": "https://localhost:8080/"
        },
        "id": "5AobBHEosbFG",
        "outputId": "eec647f9-379c-4967-8cfd-254362190ac0"
      },
      "execution_count": 2,
      "outputs": [
        {
          "output_type": "stream",
          "name": "stdout",
          "text": [
            "Creating the normalized occupancy_ratio feature...\n",
            "✅ 'occupancy_ratio' column added.\n",
            "                 time        sno  total  available_rent_bikes  occupancy_ratio\n",
            "0 2024-05-04 00:00:00  500101001     28                     6         0.214286\n",
            "1 2024-05-04 00:10:00  500101001     28                     6         0.214286\n",
            "2 2024-05-04 00:20:00  500101001     28                     3         0.107143\n",
            "3 2024-05-04 00:30:00  500101001     28                     0         0.000000\n",
            "4 2024-05-04 00:40:00  500101001     28                     0         0.000000\n"
          ]
        }
      ]
    },
    {
      "cell_type": "code",
      "source": [
        "# Save the final, processed data\n",
        "final_output_path = \"/content/drive/MyDrive/Youbike_Master_Project/YouBike_Demand_Forecast/data/ubike_final_data_with_ratio.parquet.gz\"\n",
        "df_features.to_parquet(final_output_path, compression='gzip')\n",
        "print(f\"\\nFinal processed data saved to: {final_output_path}\")"
      ],
      "metadata": {
        "colab": {
          "base_uri": "https://localhost:8080/"
        },
        "id": "6QDyB71eP8FU",
        "outputId": "5456e4c4-9e81-4829-e7cb-b1aca80cc472"
      },
      "execution_count": 3,
      "outputs": [
        {
          "output_type": "stream",
          "name": "stdout",
          "text": [
            "\n",
            "Final processed data saved to: /content/drive/MyDrive/Youbike_Master_Project/YouBike_Demand_Forecast/data/ubike_final_data_with_ratio.parquet.gz\n"
          ]
        }
      ]
    }
  ]
}